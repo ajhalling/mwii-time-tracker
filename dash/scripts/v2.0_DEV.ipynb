{
 "cells": [
  {
   "cell_type": "code",
   "execution_count": 1,
   "metadata": {},
   "outputs": [],
   "source": [
    "import os\n",
    "import datetime\n",
    "\n",
    "import pandas as pd\n",
    "from steam.webapi import WebAPI\n",
    "\n",
    "API_KEY = os.environ['API_KEY']\n",
    "\n",
    "api = WebAPI(API_KEY, raw=False, format='json', https=True, http_timeout=10)\n",
    "\n"
   ]
  },
  {
   "cell_type": "code",
   "execution_count": 2,
   "metadata": {},
   "outputs": [],
   "source": [
    "# Create a DataFrame from the extracted data\n",
    "aj_data = pd.DataFrame([\n",
    "    {\n",
    "        'name':'AJ',\n",
    "        'date': datetime.date.today(),\n",
    "        'appid':game['appid'],\n",
    "        'game': game['name'],\n",
    "        'playtime_forever': game['playtime_forever']/60\n",
    "    }\n",
    "    for game in api.call('IPlayerService.GetOwnedGames', include_appinfo=True, appids_filter=None, include_extended_appinfo=False, include_free_sub=False, include_played_free_games=True, steamid=76561198037729598, language='en')['response']['games']\n",
    "])\n",
    "\n",
    "# Create a DataFrame from the extracted data\n",
    "ashton_data = pd.DataFrame([\n",
    "    {\n",
    "        'name':'Ashton',\n",
    "        'date': datetime.date.today(),\n",
    "        'appid':game['appid'],\n",
    "        'game': game['name'],\n",
    "        'playtime_forever': game['playtime_forever']/60\n",
    "    }\n",
    "    for game in api.call('IPlayerService.GetOwnedGames', include_appinfo=True, appids_filter=None, include_extended_appinfo=False, include_free_sub=False, include_played_free_games=True, steamid=76561198102561840, language='en')['response']['games']\n",
    "])\n",
    "\n",
    "# Create a DataFrame from the extracted data\n",
    "dickson_data = pd.DataFrame([\n",
    "    {\n",
    "        'name':'Dickson',\n",
    "        'date': datetime.date.today(),\n",
    "        'appid':game['appid'],\n",
    "        'game': game['name'],\n",
    "        'playtime_forever': game['playtime_forever']/60\n",
    "    }\n",
    "    for game in api.call('IPlayerService.GetOwnedGames', include_appinfo=True, appids_filter=None, include_extended_appinfo=False, include_free_sub=False, include_played_free_games=True, steamid=76561198044737410, language='en')['response']['games']\n",
    "\n",
    "])\n"
   ]
  },
  {
   "cell_type": "code",
   "execution_count": 3,
   "metadata": {},
   "outputs": [],
   "source": [
    "aj_data = aj_data[aj_data['playtime_forever']>0]\n",
    "ashton_data = ashton_data[ashton_data['playtime_forever']>0]\n",
    "dickson_data = dickson_data[dickson_data['playtime_forever']>0]\n",
    "\n",
    "playtime_by_date_game = pd.concat([aj_data, ashton_data, dickson_data], axis=0)\n",
    "playtime_by_date_game.head()"
   ]
  },
  {
   "cell_type": "code",
   "execution_count": 7,
   "metadata": {},
   "outputs": [],
   "source": [
    "playtime_total = playtime_by_date_game.groupby(['name','date']).sum().drop(columns='game').reset_index()\n",
    "playtime_total.head()"
   ]
  },
  {
   "cell_type": "code",
   "execution_count": null,
   "metadata": {},
   "outputs": [],
   "source": []
  }
 ],
 "metadata": {
  "kernelspec": {
   "display_name": "Python 3",
   "language": "python",
   "name": "python3"
  },
  "language_info": {
   "codemirror_mode": {
    "name": "ipython",
    "version": 3
   },
   "file_extension": ".py",
   "mimetype": "text/x-python",
   "name": "python",
   "nbconvert_exporter": "python",
   "pygments_lexer": "ipython3",
   "version": "3.11.4"
  },
  "orig_nbformat": 4
 },
 "nbformat": 4,
 "nbformat_minor": 2
}
