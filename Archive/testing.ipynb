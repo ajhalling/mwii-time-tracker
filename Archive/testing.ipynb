{
 "cells": [
  {
   "cell_type": "code",
   "execution_count": 4,
   "metadata": {},
   "outputs": [],
   "source": [
    "import pandas as pd\n",
    "import plotly.express as px"
   ]
  },
  {
   "cell_type": "code",
   "execution_count": 8,
   "metadata": {},
   "outputs": [],
   "source": [
    "# Assuming you have your DataFrame 'qc' ready with appropriate data\n",
    "qc = pd.read_csv('playtime.csv')\n",
    "qc = qc[qc['id'] == str(['76561198044737410'])]\n",
    "\n",
    "# Calculate the difference between each bar and the bar before it\n",
    "qc['difference'] = qc['playtime_total'].diff()\n",
    "\n",
    "# Create a bar chart with data labels above the bars\n",
    "fig = px.bar(qc, x='date', y='difference', color='id', title='Call of Duty: Modern Warfare II - Playtime Per Day')\n",
    "\n",
    "# Add data labels above the bars\n",
    "fig.update_traces(texttemplate='%{text}', textposition='auto', text=qc['difference'].fillna(0).astype(int))\n",
    "\n",
    "# Calculate the rolling sum of the last 7 values of the 'difference' column\n",
    "rolling_sum_7_days = qc['difference'].rolling(window=7).sum().fillna(0).astype(int)\n"
   ]
  },
  {
   "cell_type": "code",
   "execution_count": 10,
   "metadata": {},
   "outputs": [
    {
     "data": {
      "text/plain": [
       "28"
      ]
     },
     "execution_count": 10,
     "metadata": {},
     "output_type": "execute_result"
    }
   ],
   "source": [
    "rolling_sum_7_days.iloc[-1]"
   ]
  },
  {
   "cell_type": "code",
   "execution_count": 7,
   "metadata": {},
   "outputs": [
    {
     "data": {
      "text/html": [
       "<div>\n",
       "<style scoped>\n",
       "    .dataframe tbody tr th:only-of-type {\n",
       "        vertical-align: middle;\n",
       "    }\n",
       "\n",
       "    .dataframe tbody tr th {\n",
       "        vertical-align: top;\n",
       "    }\n",
       "\n",
       "    .dataframe thead th {\n",
       "        text-align: right;\n",
       "    }\n",
       "</style>\n",
       "<table border=\"1\" class=\"dataframe\">\n",
       "  <thead>\n",
       "    <tr style=\"text-align: right;\">\n",
       "      <th></th>\n",
       "      <th>date</th>\n",
       "      <th>playtime_total</th>\n",
       "      <th>id</th>\n",
       "      <th>difference</th>\n",
       "    </tr>\n",
       "  </thead>\n",
       "  <tbody>\n",
       "    <tr>\n",
       "      <th>0</th>\n",
       "      <td>2023-08-01</td>\n",
       "      <td>1054.716667</td>\n",
       "      <td>['76561198044737410']</td>\n",
       "      <td>NaN</td>\n",
       "    </tr>\n",
       "    <tr>\n",
       "      <th>1</th>\n",
       "      <td>2023-08-02</td>\n",
       "      <td>1056.233333</td>\n",
       "      <td>['76561198044737410']</td>\n",
       "      <td>1.516666</td>\n",
       "    </tr>\n",
       "    <tr>\n",
       "      <th>2</th>\n",
       "      <td>2023-08-04</td>\n",
       "      <td>1074.500000</td>\n",
       "      <td>['76561198044737410']</td>\n",
       "      <td>18.266667</td>\n",
       "    </tr>\n",
       "    <tr>\n",
       "      <th>3</th>\n",
       "      <td>2023-08-06</td>\n",
       "      <td>1080.633333</td>\n",
       "      <td>['76561198044737410']</td>\n",
       "      <td>6.133333</td>\n",
       "    </tr>\n",
       "    <tr>\n",
       "      <th>4</th>\n",
       "      <td>2023-08-08</td>\n",
       "      <td>1085.666667</td>\n",
       "      <td>['76561198044737410']</td>\n",
       "      <td>5.033333</td>\n",
       "    </tr>\n",
       "    <tr>\n",
       "      <th>5</th>\n",
       "      <td>2023-08-09</td>\n",
       "      <td>1087.983333</td>\n",
       "      <td>['76561198044737410']</td>\n",
       "      <td>2.316667</td>\n",
       "    </tr>\n",
       "    <tr>\n",
       "      <th>6</th>\n",
       "      <td>2023-08-10</td>\n",
       "      <td>1089.250000</td>\n",
       "      <td>['76561198044737410']</td>\n",
       "      <td>1.266667</td>\n",
       "    </tr>\n",
       "    <tr>\n",
       "      <th>7</th>\n",
       "      <td>2023-08-11</td>\n",
       "      <td>1089.250000</td>\n",
       "      <td>['76561198044737410']</td>\n",
       "      <td>0.000000</td>\n",
       "    </tr>\n",
       "    <tr>\n",
       "      <th>10</th>\n",
       "      <td>2023-08-12</td>\n",
       "      <td>1097.066667</td>\n",
       "      <td>['76561198044737410']</td>\n",
       "      <td>7.816667</td>\n",
       "    </tr>\n",
       "    <tr>\n",
       "      <th>13</th>\n",
       "      <td>2023-08-13</td>\n",
       "      <td>1103.483333</td>\n",
       "      <td>['76561198044737410']</td>\n",
       "      <td>6.416667</td>\n",
       "    </tr>\n",
       "    <tr>\n",
       "      <th>16</th>\n",
       "      <td>2023-08-14</td>\n",
       "      <td>1109.433333</td>\n",
       "      <td>['76561198044737410']</td>\n",
       "      <td>5.950000</td>\n",
       "    </tr>\n",
       "    <tr>\n",
       "      <th>19</th>\n",
       "      <td>2023-08-15</td>\n",
       "      <td>1113.966667</td>\n",
       "      <td>['76561198044737410']</td>\n",
       "      <td>4.533333</td>\n",
       "    </tr>\n",
       "  </tbody>\n",
       "</table>\n",
       "</div>"
      ],
      "text/plain": [
       "          date  playtime_total                     id  difference\n",
       "0   2023-08-01     1054.716667  ['76561198044737410']         NaN\n",
       "1   2023-08-02     1056.233333  ['76561198044737410']    1.516666\n",
       "2   2023-08-04     1074.500000  ['76561198044737410']   18.266667\n",
       "3   2023-08-06     1080.633333  ['76561198044737410']    6.133333\n",
       "4   2023-08-08     1085.666667  ['76561198044737410']    5.033333\n",
       "5   2023-08-09     1087.983333  ['76561198044737410']    2.316667\n",
       "6   2023-08-10     1089.250000  ['76561198044737410']    1.266667\n",
       "7   2023-08-11     1089.250000  ['76561198044737410']    0.000000\n",
       "10  2023-08-12     1097.066667  ['76561198044737410']    7.816667\n",
       "13  2023-08-13     1103.483333  ['76561198044737410']    6.416667\n",
       "16  2023-08-14     1109.433333  ['76561198044737410']    5.950000\n",
       "19  2023-08-15     1113.966667  ['76561198044737410']    4.533333"
      ]
     },
     "execution_count": 7,
     "metadata": {},
     "output_type": "execute_result"
    }
   ],
   "source": [
    "qc"
   ]
  }
 ],
 "metadata": {
  "kernelspec": {
   "display_name": "Python 3",
   "language": "python",
   "name": "python3"
  },
  "language_info": {
   "codemirror_mode": {
    "name": "ipython",
    "version": 3
   },
   "file_extension": ".py",
   "mimetype": "text/x-python",
   "name": "python",
   "nbconvert_exporter": "python",
   "pygments_lexer": "ipython3",
   "version": "3.11.4"
  },
  "orig_nbformat": 4
 },
 "nbformat": 4,
 "nbformat_minor": 2
}
